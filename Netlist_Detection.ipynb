{
  "nbformat": 4,
  "nbformat_minor": 0,
  "metadata": {
    "colab": {
      "provenance": [],
      "authorship_tag": "ABX9TyM36iEW3JFnWRaaLJ1jnUdc",
      "include_colab_link": true
    },
    "kernelspec": {
      "name": "python3",
      "display_name": "Python 3"
    },
    "language_info": {
      "name": "python"
    },
    "accelerator": "GPU",
    "gpuClass": "standard"
  },
  "cells": [
    {
      "cell_type": "markdown",
      "metadata": {
        "id": "view-in-github",
        "colab_type": "text"
      },
      "source": [
        "<a href=\"https://colab.research.google.com/github/cheonseunghyeon/Instrumentation-Drawing-Object-Detection/blob/master/Netlist_Detection.ipynb\" target=\"_parent\"><img src=\"https://colab.research.google.com/assets/colab-badge.svg\" alt=\"Open In Colab\"/></a>"
      ]
    },
    {
      "cell_type": "code",
      "execution_count": null,
      "metadata": {
        "colab": {
          "base_uri": "https://localhost:8080/"
        },
        "id": "D5_EGJf3VVTo",
        "outputId": "3dafe54d-f8d6-40c3-c1c8-c3c10a2efb02"
      },
      "outputs": [
        {
          "output_type": "stream",
          "name": "stdout",
          "text": [
            "LINEARCON\n"
          ]
        }
      ],
      "source": [
        "text ='(net LINEARCON'\n",
        "strings = text.split('net ')[1]\n",
        "print(strings)"
      ]
    },
    {
      "cell_type": "code",
      "source": [],
      "metadata": {
        "id": "oiVDgUs5N3ZR"
      },
      "execution_count": null,
      "outputs": []
    },
    {
      "cell_type": "code",
      "source": [
        "\n",
        "f = open('test.txt', 'r')\n",
        "\n",
        "lines = f.readlines()\n",
        "print(lines)"
      ],
      "metadata": {
        "colab": {
          "base_uri": "https://localhost:8080/"
        },
        "id": "AaYJCbvAnkgN",
        "outputId": "a56769ab-68ee-4432-8c47-7812c6499284"
      },
      "execution_count": null,
      "outputs": [
        {
          "output_type": "stream",
          "name": "stdout",
          "text": [
            "['     (net N16478538\\n', '      (joined\\n', '       (portRef /EN (instanceRef U13))\\n', '       (portRef &2 (instanceRef R138))\\n', '       (portRef &2 (instanceRef R140)))\\n', '      (property Line Style (string \"Default\"))\\n', '      (property Line Width (string \"Default\"))\\n', '      (property Name (string \"N16478538\"))\\n', '      (property Color (string \"Default\")))']\n"
          ]
        }
      ]
    },
    {
      "cell_type": "code",
      "source": [
        "\n",
        "f = open('test.txt', 'r')\n",
        "\n",
        "lines = f.readlines()\n",
        "\n",
        "for line in lines:\n",
        "  item = line.split(\"\\n\")\n",
        "  print (item)"
      ],
      "metadata": {
        "colab": {
          "base_uri": "https://localhost:8080/"
        },
        "id": "GQOeJoskqp3h",
        "outputId": "9f8d6683-a44c-410c-f882-932106baa2fc"
      },
      "execution_count": null,
      "outputs": [
        {
          "output_type": "stream",
          "name": "stdout",
          "text": [
            "['     (net N16478538', '']\n",
            "['      (joined', '']\n",
            "['       (portRef /EN (instanceRef U13))', '']\n",
            "['       (portRef &2 (instanceRef R138))', '']\n",
            "['       (portRef &2 (instanceRef R140)))', '']\n",
            "['      (property Line Style (string \"Default\"))', '']\n",
            "['      (property Line Width (string \"Default\"))', '']\n",
            "['      (property Name (string \"N16478538\"))', '']\n",
            "['      (property Color (string \"Default\")))']\n"
          ]
        }
      ]
    },
    {
      "cell_type": "code",
      "source": [
        "\n",
        "f = open('test.txt', 'r')\n",
        "\n",
        "lines = f.readlines()\n",
        "for line in lines:\n",
        "  item = line.split(\" \")\n",
        "  print(item)"
      ],
      "metadata": {
        "colab": {
          "base_uri": "https://localhost:8080/"
        },
        "id": "f8juXdZVw9h9",
        "outputId": "b41fd59b-b8da-4d32-c4fe-576807ae3484"
      },
      "execution_count": null,
      "outputs": [
        {
          "output_type": "stream",
          "name": "stdout",
          "text": [
            "['', '', '', '', '', '(net', 'N16478538\\n']\n",
            "['', '', '', '', '', '', '(joined\\n']\n",
            "['', '', '', '', '', '', '', '(portRef', '/EN', '(instanceRef', 'U13))\\n']\n",
            "['', '', '', '', '', '', '', '(portRef', '&2', '(instanceRef', 'R138))\\n']\n",
            "['', '', '', '', '', '', '', '(portRef', '&2', '(instanceRef', 'R140)))\\n']\n",
            "['', '', '', '', '', '', '(property', 'Line', 'Style', '(string', '\"Default\"))\\n']\n",
            "['', '', '', '', '', '', '(property', 'Line', 'Width', '(string', '\"Default\"))\\n']\n",
            "['', '', '', '', '', '', '(property', 'Name', '(string', '\"N16478538\"))\\n']\n",
            "['', '', '', '', '', '', '(property', 'Color', '(string', '\"Default\")))\\n']\n",
            "['\\n']\n",
            "['\\n']\n",
            "['', '', '', '', '', '(net', 'N16478882\\n']\n",
            "['', '', '', '', '', '', '(joined\\n']\n",
            "['', '', '', '', '', '', '', '(portRef', '&1', '(instanceRef', 'J42))\\n']\n",
            "['', '', '', '', '', '', '', '(portRef', '&2', '(instanceRef', 'J41)))\\n']\n",
            "['', '', '', '', '', '', '(property', 'Line', 'Style', '(string', '\"Default\"))\\n']\n",
            "['', '', '', '', '', '', '(property', 'Line', 'Width', '(string', '\"Default\"))\\n']\n",
            "['', '', '', '', '', '', '(property', 'Name', '(string', '\"N16478882\"))\\n']\n",
            "['', '', '', '', '', '', '(property', 'Color', '(string', '\"Default\")))\\n']\n",
            "['\\n']\n",
            "['', '', '', '', '', '(instance', 'U13\\n']\n",
            "['', '', '', '', '', '', '(viewRef', 'NetlistView\\n']\n",
            "['', '', '', '', '', '', '', '(cellRef', 'max14871_0\\n']\n",
            "['', '', '', '', '', '', '', '', '(libraryRef', 'OrCAD_LIB)))', '(designator', '\"U13\")\\n']\n",
            "['', '', '', '', '', '', '(property', 'PCB', 'Footprint', '(string', '\"MAX14871/TSSOP16\"))\\n']\n",
            "['', '', '', '', '', '', '(property', 'Manufacture', '(string', '\"MAXIM\"))\\n']\n",
            "['', '', '', '', '', '', '(property', 'Name', '(string', '\"INS16479686\"))\\n']\n",
            "['', '', '', '', '', '', '(property', 'Manufacturer', '(string', '\"MAXIM\"))\\n']\n",
            "['', '', '', '', '', '', '(property', 'Value', '(string', '\"MAX14871\"))\\n']\n",
            "['', '', '', '', '', '', '(property', 'Description', '(string', '\"Full-Bridge', 'DC', 'Motor', 'Driver\"))\\n']\n",
            "['', '', '', '', '', '', '(portInstance', '/EN)\\n']\n",
            "['', '', '', '', '', '', '(portInstance', 'PWM)\\n']\n",
            "['', '', '', '', '', '', '(portInstance', 'DIR)\\n']\n",
            "['', '', '', '', '', '', '(portInstance', 'M1_2)\\n']\n",
            "['', '', '', '', '', '', '(portInstance', 'M2_1)\\n']\n",
            "['', '', '', '', '', '', '(portInstance', 'M2_2)\\n']\n",
            "['', '', '', '', '', '', '(portInstance', 'EP)\\n']\n",
            "['', '', '', '', '', '', '(portInstance', 'VDD_1)\\n']\n",
            "['', '', '', '', '', '', '(portInstance', 'VDD_2)\\n']\n",
            "['', '', '', '', '', '', '(portInstance', 'VREF)\\n']\n",
            "['', '', '', '', '', '', '(portInstance', 'MODE)\\n']\n",
            "['', '', '', '', '', '', '(portInstance', 'TCOFF)\\n']\n",
            "['', '', '', '', '', '', '(portInstance', 'SNS)\\n']\n",
            "['', '', '', '', '', '', '(portInstance', 'M1_1)\\n']\n",
            "['', '', '', '', '', '', '(portInstance', 'COM_2)\\n']\n",
            "['', '', '', '', '', '', '(portInstance', 'COM_1)\\n']\n",
            "['', '', '', '', '', '', '(portInstance', '/FAULT))']\n"
          ]
        }
      ]
    },
    {
      "cell_type": "code",
      "source": [
        "# 공백 제거 \n",
        "f = open('test.txt', 'r')\n",
        "\n",
        "lines = f.readlines()\n",
        "for line in lines:\n",
        "  item = line.split(\" \")\n",
        "  item = [i for i in item if i not in '']\n",
        "  print(item)"
      ],
      "metadata": {
        "colab": {
          "base_uri": "https://localhost:8080/"
        },
        "id": "c6Qd4iOpqjzd",
        "outputId": "b1e2c6a0-21c5-4379-db91-cef83586ead3"
      },
      "execution_count": null,
      "outputs": [
        {
          "output_type": "stream",
          "name": "stdout",
          "text": [
            "['(net', 'N16478538\\n']\n",
            "['(joined\\n']\n",
            "['(portRef', '/EN', '(instanceRef', 'U13))\\n']\n",
            "['(portRef', '&2', '(instanceRef', 'R138))\\n']\n",
            "['(portRef', '&2', '(instanceRef', 'R140)))\\n']\n",
            "['(property', 'Line', 'Style', '(string', '\"Default\"))\\n']\n",
            "['(property', 'Line', 'Width', '(string', '\"Default\"))\\n']\n",
            "['(property', 'Name', '(string', '\"N16478538\"))\\n']\n",
            "['(property', 'Color', '(string', '\"Default\")))\\n']\n",
            "['\\n']\n",
            "['\\n']\n",
            "['(net', 'N16478882\\n']\n",
            "['(joined\\n']\n",
            "['(portRef', '&1', '(instanceRef', 'J42))\\n']\n",
            "['(portRef', '&2', '(instanceRef', 'J41)))\\n']\n",
            "['(property', 'Line', 'Style', '(string', '\"Default\"))\\n']\n",
            "['(property', 'Line', 'Width', '(string', '\"Default\"))\\n']\n",
            "['(property', 'Name', '(string', '\"N16478882\"))\\n']\n",
            "['(property', 'Color', '(string', '\"Default\")))\\n']\n",
            "['\\n']\n",
            "['(instance', 'U13\\n']\n",
            "['(viewRef', 'NetlistView\\n']\n",
            "['(cellRef', 'max14871_0\\n']\n",
            "['(libraryRef', 'OrCAD_LIB)))', '(designator', '\"U13\")\\n']\n",
            "['(property', 'PCB', 'Footprint', '(string', '\"MAX14871/TSSOP16\"))\\n']\n",
            "['(property', 'Manufacture', '(string', '\"MAXIM\"))\\n']\n",
            "['(property', 'Name', '(string', '\"INS16479686\"))\\n']\n",
            "['(property', 'Manufacturer', '(string', '\"MAXIM\"))\\n']\n",
            "['(property', 'Value', '(string', '\"MAX14871\"))\\n']\n",
            "['(property', 'Description', '(string', '\"Full-Bridge', 'DC', 'Motor', 'Driver\"))\\n']\n",
            "['(portInstance', '/EN)\\n']\n",
            "['(portInstance', 'PWM)\\n']\n",
            "['(portInstance', 'DIR)\\n']\n",
            "['(portInstance', 'M1_2)\\n']\n",
            "['(portInstance', 'M2_1)\\n']\n",
            "['(portInstance', 'M2_2)\\n']\n",
            "['(portInstance', 'EP)\\n']\n",
            "['(portInstance', 'VDD_1)\\n']\n",
            "['(portInstance', 'VDD_2)\\n']\n",
            "['(portInstance', 'VREF)\\n']\n",
            "['(portInstance', 'MODE)\\n']\n",
            "['(portInstance', 'TCOFF)\\n']\n",
            "['(portInstance', 'SNS)\\n']\n",
            "['(portInstance', 'M1_1)\\n']\n",
            "['(portInstance', 'COM_2)\\n']\n",
            "['(portInstance', 'COM_1)\\n']\n",
            "['(portInstance', '/FAULT))']\n"
          ]
        }
      ]
    },
    {
      "cell_type": "code",
      "source": [
        "\n",
        "f = open('test.txt', 'r')\n",
        "\n",
        "lines = f.readlines()\n",
        "list = []\n",
        "for line in lines:\n",
        "  item = line.split(\" \")\n",
        "  \n",
        "  if '(net' in item:\n",
        "      name = item[item.index('(net')+1]\n",
        "      print(name)\n",
        "\n",
        "      if name[0] == 'LINEARCON':\n",
        "        print(\"성공\")\n",
        "\n",
        "  if '(portRef' in item:\n",
        "      port = item[item.index('(portRef')+1]\n",
        "      print(port)\n",
        "\n",
        "  if '(instanceRef' in item:\n",
        "      instan = item[item.index('(instanceRef')+1]\n",
        "      instan = instan.replace(')', '')\n",
        "      print(instan)\n",
        "      test = '(instance ' + instan\n",
        "      print(test)\n",
        "      print('(instance R128')\n",
        "  \n",
        "  if '(portInstance' in item:\n",
        "    address = item[item.index('(portInstance')+1]\n",
        "    print(address)"
      ],
      "metadata": {
        "colab": {
          "base_uri": "https://localhost:8080/"
        },
        "id": "4cKMdrLQiuIK",
        "outputId": "d2b386f3-94de-483d-ce0a-b99c6f50fa88"
      },
      "execution_count": null,
      "outputs": [
        {
          "output_type": "stream",
          "name": "stdout",
          "text": [
            "LINEARCON\n",
            "\n",
            "&1\n",
            "R128\n",
            "\n",
            "(instance R128\n",
            "\n",
            "(instance R128\n",
            "&1)\n",
            "\n",
            "&2))\n",
            "\n"
          ]
        }
      ]
    },
    {
      "cell_type": "code",
      "source": [
        "\n",
        "f = open('test.txt', 'r')\n",
        "\n",
        "lines = f.readlines()\n",
        "list = []\n",
        "for line in lines:\n",
        "  item = line.split(\" \")\n",
        "  \n",
        "  if '(net' in item:\n",
        "      name = item[item.index('(net')+1]\n",
        "      print(name)\n",
        "\n",
        "      if name[0] == 'LINEARCON':\n",
        "        print(\"성공\")\n",
        "\n",
        "  if '(portRef' in item:\n",
        "      port = item[item.index('(portRef')+1]\n",
        "      print(port)\n",
        "\n",
        "  if '(instanceRef' in item:\n",
        "      instan = item[item.index('(instanceRef')+1]\n",
        "      instan = instan.replace(')', '')\n",
        "      print(instan)\n",
        "      test = '(instance ' + instan\n",
        "      test = test.replace('\\n','')\n",
        "      print(test.encode('utf-8'))\n",
        "      print(\"(instance R128\".encode('utf-8'))\n",
        "      print(test.__class__)\n",
        "      print('(instance R128'.__class__)\n",
        "\n",
        "      if test == \"(instance R128\":\n",
        "          print(\"성공\")\n",
        "      else:\n",
        "          print(\"실패\")\n",
        "\n",
        "      for line in lines:\n",
        "        items =line.split('\\n')\n",
        "        \n",
        "        if test in items:\n",
        "          print(items)"
      ],
      "metadata": {
        "colab": {
          "base_uri": "https://localhost:8080/"
        },
        "id": "CDJLRDKv0zxq",
        "outputId": "f4656a75-4cce-4c0a-d759-748cba258a1d"
      },
      "execution_count": null,
      "outputs": [
        {
          "output_type": "stream",
          "name": "stdout",
          "text": [
            "LINEARCON\n",
            "\n",
            "&1\n",
            "R128\n",
            "\n",
            "b'(instance R128'\n",
            "b'(instance R128'\n",
            "<class 'str'>\n",
            "<class 'str'>\n",
            "성공\n",
            "['(instance R128', '']\n"
          ]
        }
      ]
    },
    {
      "cell_type": "code",
      "source": [
        "\n",
        "f = open('test.txt', 'r')\n",
        "\n",
        "lines = f.readlines()\n",
        "list = []\n",
        "for line in lines:\n",
        "  item = line.split(\" \")\n",
        "  \n",
        "  if '(net' in item:\n",
        "      name = item[item.index('(net')+1]\n",
        "      print(name)\n",
        "\n",
        "      if name[0] == 'LINEARCON':\n",
        "        print(\"성공\")\n",
        "\n",
        "  if '(portRef' in item:\n",
        "      port = item[item.index('(portRef')+1]\n",
        "      print(port)\n",
        "\n",
        "  if '(instanceRef' in item:\n",
        "      instan = item[item.index('(instanceRef')+1]\n",
        "      instan = instan.replace(')', '')\n",
        "      print(instan)\n",
        "      test = '(instance ' + instan\n",
        "      print(test)\n",
        "      print('(instance R128')\n",
        "  \n",
        "  if '(portInstance' in item:\n",
        "    address = item[item.index('(portInstance')+1]\n",
        "    print(address)"
      ],
      "metadata": {
        "colab": {
          "base_uri": "https://localhost:8080/"
        },
        "id": "GCfWDRZFlaLi",
        "outputId": "ed19b88c-e743-4345-fd2b-04d40ae7f13c"
      },
      "execution_count": null,
      "outputs": [
        {
          "output_type": "stream",
          "name": "stdout",
          "text": [
            "N16478538\n",
            "\n",
            "/EN\n",
            "U13\n",
            "\n",
            "(instance U13\n",
            "\n",
            "(instance R128\n",
            "&2\n",
            "R138\n",
            "\n",
            "(instance R138\n",
            "\n",
            "(instance R128\n",
            "&2\n",
            "R140\n",
            "\n",
            "(instance R140\n",
            "\n",
            "(instance R128\n"
          ]
        }
      ]
    },
    {
      "cell_type": "code",
      "source": [
        "f = open('test.txt', 'r')\n",
        "\n",
        "lines = f.readlines()\n",
        "\n",
        "for line in lines:\n",
        "  item = line.split(\" \")\n",
        "  item = [i for i in item if i not in '']\n",
        "  print (item)"
      ],
      "metadata": {
        "colab": {
          "base_uri": "https://localhost:8080/"
        },
        "id": "To5xYCEItvKn",
        "outputId": "929794b4-7acc-4511-bbe3-c310f295796e"
      },
      "execution_count": null,
      "outputs": [
        {
          "output_type": "stream",
          "name": "stdout",
          "text": [
            "['(net', 'N16478538\\n']\n",
            "['(joined\\n']\n",
            "['(portRef', '/EN', '(instanceRef', 'U13))\\n']\n",
            "['(portRef', '&2', '(instanceRef', 'R138))\\n']\n",
            "['(portRef', '&2', '(instanceRef', 'R140)))\\n']\n",
            "['(property', 'Line', 'Style', '(string', '\"Default\"))\\n']\n",
            "['(property', 'Line', 'Width', '(string', '\"Default\"))\\n']\n",
            "['(property', 'Name', '(string', '\"N16478538\"))\\n']\n",
            "['(property', 'Color', '(string', '\"Default\")))\\n']\n",
            "['\\n']\n",
            "['\\n']\n",
            "['(net', 'N16478882\\n']\n",
            "['(joined\\n']\n",
            "['(portRef', '&1', '(instanceRef', 'J42))\\n']\n",
            "['(portRef', '&2', '(instanceRef', 'J41)))\\n']\n",
            "['(property', 'Line', 'Style', '(string', '\"Default\"))\\n']\n",
            "['(property', 'Line', 'Width', '(string', '\"Default\"))\\n']\n",
            "['(property', 'Name', '(string', '\"N16478882\"))\\n']\n",
            "['(property', 'Color', '(string', '\"Default\")))\\n']\n",
            "['\\n']\n",
            "['(instance', 'U13\\n']\n",
            "['(viewRef', 'NetlistView\\n']\n",
            "['(cellRef', 'max14871_0\\n']\n",
            "['(libraryRef', 'OrCAD_LIB)))', '(designator', '\"U13\")\\n']\n",
            "['(property', 'PCB', 'Footprint', '(string', '\"MAX14871/TSSOP16\"))\\n']\n",
            "['(property', 'Manufacture', '(string', '\"MAXIM\"))\\n']\n",
            "['(property', 'Name', '(string', '\"INS16479686\"))\\n']\n",
            "['(property', 'Manufacturer', '(string', '\"MAXIM\"))\\n']\n",
            "['(property', 'Value', '(string', '\"MAX14871\"))\\n']\n",
            "['(property', 'Description', '(string', '\"Full-Bridge', 'DC', 'Motor', 'Driver\"))\\n']\n",
            "['(portInstance', '/EN)\\n']\n",
            "['(portInstance', 'PWM)\\n']\n",
            "['(portInstance', 'DIR)\\n']\n",
            "['(portInstance', 'M1_2)\\n']\n",
            "['(portInstance', 'M2_1)\\n']\n",
            "['(portInstance', 'M2_2)\\n']\n",
            "['(portInstance', 'EP)\\n']\n",
            "['(portInstance', 'VDD_1)\\n']\n",
            "['(portInstance', 'VDD_2)\\n']\n",
            "['(portInstance', 'VREF)\\n']\n",
            "['(portInstance', 'MODE)\\n']\n",
            "['(portInstance', 'TCOFF)\\n']\n",
            "['(portInstance', 'SNS)\\n']\n",
            "['(portInstance', 'M1_1)\\n']\n",
            "['(portInstance', 'COM_2)\\n']\n",
            "['(portInstance', 'COM_1)\\n']\n",
            "['(portInstance', '/FAULT))\\n']\n",
            "['\\n']\n",
            "['(instance', 'R128\\n']\n",
            "['(viewRef', 'NetlistView\\n']\n",
            "['(cellRef', 'R\\n']\n",
            "['(libraryRef', 'OrCAD_LIB)))', '(designator', '\"R128\")\\n']\n",
            "['(property', 'PCB', 'Footprint', '(string', '\"R1005\"))\\n']\n",
            "['(property', 'Name', '(string', '\"INS16476766\"))\\n']\n",
            "['(property', 'Value', '(string', '\"4.7K\"))\\n']\n",
            "['(portInstance', '&1)\\n']\n",
            "['(portInstance', '&2))\\n']\n",
            "['\\n']\n",
            "['(instance', 'R140\\n']\n",
            "['(viewRef', 'NetlistView\\n']\n",
            "['(cellRef', 'R\\n']\n",
            "['(libraryRef', 'OrCAD_LIB)))', '(designator', '\"R140\")\\n']\n",
            "['(property', 'PCB', 'Footprint', '(string', '\"R1005\"))\\n']\n",
            "['(property', 'Name', '(string', '\"INS16480058\"))\\n']\n",
            "['(property', 'Value', '(string', '\"120R\")\\n']\n",
            "['(portInstance', '&1)\\n']\n",
            "['(portInstance', '&2))']\n"
          ]
        }
      ]
    },
    {
      "cell_type": "code",
      "source": [
        "\n",
        "f = open('test.txt', 'r')\n",
        "\n",
        "lines = f.readlines()\n",
        "list = []\n",
        "for line in lines:\n",
        "  item = line.split(\" \")\n",
        "  \n",
        "  if '(net' in item:\n",
        "      name = item[item.index('(net')+1]\n",
        "      print(name)\n",
        "\n",
        "  if '(portRef' in item:\n",
        "      port = item[item.index('(portRef')+1]\n",
        "      print(port)\n",
        "\n",
        "  if '(instanceRef' in item:\n",
        "      instan = item[item.index('(instanceRef')+1]\n",
        "      instan = instan.replace(')', '')\n",
        "      print(instan)\n",
        "      test = '(instance ' + instan\n",
        "  \n",
        "  if '(portInstance' in item:\n",
        "    address = item[item.index('(portInstance')+1]"
      ],
      "metadata": {
        "colab": {
          "base_uri": "https://localhost:8080/"
        },
        "id": "UfVJsoNolufB",
        "outputId": "a31faa4e-9890-4be1-d7a7-a2925215262b"
      },
      "execution_count": null,
      "outputs": [
        {
          "output_type": "stream",
          "name": "stdout",
          "text": [
            "N16478538\n",
            "\n",
            "/EN\n",
            "U13\n",
            "\n",
            "&2\n",
            "R138\n",
            "\n",
            "&2\n",
            "R140\n",
            "\n",
            "N16478882\n",
            "\n",
            "&1\n",
            "J42\n",
            "\n",
            "&2\n",
            "J41\n",
            "\n"
          ]
        }
      ]
    },
    {
      "cell_type": "code",
      "source": [
        "def find(test):\n",
        "  text = open('test.txt', 'r')\n",
        "\n",
        "\n",
        "\n",
        "f = open('test.txt', 'r')\n",
        "\n",
        "lines = f.readlines()\n",
        "list = []\n",
        "for line in lines:\n",
        "  item = line.split(\" \")\n",
        "  \n",
        "  if '(net' in item:\n",
        "      name = item[item.index('(net')+1]\n",
        "      print(name)\n",
        "\n",
        "  if '(portRef' in item:\n",
        "      port = item[item.index('(portRef')+1]\n",
        "      print(\"port = \" + port)\n",
        "\n",
        "  if '(instanceRef' in item:\n",
        "      instan = item[item.index('(instanceRef')+1]\n",
        "      instan = instan.replace(')', '')\n",
        "      print(\"instan = \" + instan)\n",
        "      test = '(instance ' + instan\n",
        "      test = test.replace('\\n','')\n",
        "      print(\"주소는 \" + test)\n",
        "      print(open('test.txt', 'r').read().find(test))\n",
        "      print(\"\\n\")\n",
        "      \n",
        "  \n"
      ],
      "metadata": {
        "colab": {
          "base_uri": "https://localhost:8080/"
        },
        "id": "cN8awLUyoB4o",
        "outputId": "e5b8c39e-8544-4bf5-b553-419e75b49428"
      },
      "execution_count": null,
      "outputs": [
        {
          "output_type": "stream",
          "name": "stdout",
          "text": [
            "N16478538\n",
            "\n",
            "port = /EN\n",
            "instan = U13\n",
            "\n",
            "주소는 (instance U13\n",
            "631\n",
            "\n",
            "\n",
            "port = &2\n",
            "instan = R138\n",
            "\n",
            "주소는 (instance R138\n",
            "1815\n",
            "\n",
            "\n",
            "port = &2\n",
            "instan = R140\n",
            "\n",
            "주소는 (instance R140\n",
            "2114\n",
            "\n",
            "\n",
            "N16478882\n",
            "\n",
            "port = &1\n",
            "instan = J42\n",
            "\n",
            "주소는 (instance J42\n",
            "-1\n",
            "\n",
            "\n",
            "port = &2\n",
            "instan = J41\n",
            "\n",
            "주소는 (instance J41\n",
            "-1\n",
            "\n",
            "\n"
          ]
        }
      ]
    },
    {
      "cell_type": "code",
      "source": [
        "f = open('test.txt', 'r')\n",
        "\n",
        "lines = f.readlines()\n",
        "\n",
        "for line in lines:\n",
        "  item = line.split(\"\\n\")\n",
        "  print(open('test.txt', 'r').read().find('(net N16478882'))"
      ],
      "metadata": {
        "colab": {
          "base_uri": "https://localhost:8080/"
        },
        "id": "uOfO36O1qT9e",
        "outputId": "a1023f6e-6081-47a7-db86-92e672ad7773"
      },
      "execution_count": null,
      "outputs": [
        {
          "output_type": "stream",
          "name": "stdout",
          "text": [
            "339\n",
            "339\n",
            "339\n",
            "339\n",
            "339\n",
            "339\n",
            "339\n",
            "339\n",
            "339\n",
            "339\n",
            "339\n",
            "339\n",
            "339\n",
            "339\n",
            "339\n",
            "339\n",
            "339\n",
            "339\n",
            "339\n",
            "339\n",
            "339\n",
            "339\n",
            "339\n",
            "339\n",
            "339\n",
            "339\n",
            "339\n",
            "339\n",
            "339\n",
            "339\n",
            "339\n",
            "339\n",
            "339\n",
            "339\n",
            "339\n",
            "339\n",
            "339\n",
            "339\n",
            "339\n",
            "339\n",
            "339\n",
            "339\n",
            "339\n",
            "339\n",
            "339\n",
            "339\n",
            "339\n"
          ]
        }
      ]
    },
    {
      "cell_type": "code",
      "source": [
        "list = ['a','b','','','']\n",
        "li = [i for i in list if i not in '']\n",
        "print(li)"
      ],
      "metadata": {
        "colab": {
          "base_uri": "https://localhost:8080/"
        },
        "id": "hbEjIIG2vJt3",
        "outputId": "6d833d2a-b947-4b79-92f1-69e58be2e34c"
      },
      "execution_count": null,
      "outputs": [
        {
          "output_type": "stream",
          "name": "stdout",
          "text": [
            "['a', 'b']\n"
          ]
        }
      ]
    }
  ]
}